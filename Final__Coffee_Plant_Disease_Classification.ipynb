{
  "cells": [
    {
      "cell_type": "markdown",
      "metadata": {
        "id": "view-in-github",
        "colab_type": "text"
      },
      "source": [
        "<a href=\"https://colab.research.google.com/github/serawit/serawit/blob/main/Final__Coffee_Plant_Disease_Classification.ipynb\" target=\"_parent\"><img src=\"https://colab.research.google.com/assets/colab-badge.svg\" alt=\"Open In Colab\"/></a>"
      ]
    },
    {
      "cell_type": "markdown",
      "metadata": {
        "id": "Ynypyy5GQNh2"
      },
      "source": [
        "## Mount drive (Connecting to google drive)"
      ]
    },
    {
      "cell_type": "code",
      "execution_count": null,
      "metadata": {
        "colab": {
          "base_uri": "https://localhost:8080/"
        },
        "id": "CjFOGkQ4Z-Pz",
        "outputId": "80d007a9-bc4d-493c-9701-801775b106ae"
      },
      "outputs": [
        {
          "output_type": "stream",
          "name": "stdout",
          "text": [
            "Drive already mounted at /content/drive; to attempt to forcibly remount, call drive.mount(\"/content/drive\", force_remount=True).\n"
          ]
        }
      ],
      "source": [
        "from google.colab import drive\n",
        "drive.mount('/content/drive')"
      ]
    },
    {
      "cell_type": "markdown",
      "metadata": {
        "id": "nNHBnYGW1nLy"
      },
      "source": [
        "# Import libraries/packages"
      ]
    },
    {
      "cell_type": "code",
      "execution_count": null,
      "metadata": {
        "id": "inLXnFb6hPXk"
      },
      "outputs": [],
      "source": [
        "import os\n",
        "import numpy as np\n",
        "import cv2 as cv\n",
        "import sklearn.datasets as datasets\n",
        "from sklearn.model_selection import train_test_split\n",
        "\n",
        "import matplotlib.pyplot as plt\n",
        "import seaborn as sns\n",
        "\n",
        "# dataset splitter (as train/val/test)\n",
        "from sklearn.model_selection import train_test_split\n",
        "\n",
        "# for the ML/DL models\n",
        "from sklearn import svm\n",
        "from sklearn.neighbors import KNeighborsClassifier\n",
        "from sklearn.metrics import classification_report, confusion_matrix\n",
        "\n",
        "import tensorflow as tf\n",
        "\n",
        "from tensorflow.keras.utils import to_categorical\n",
        "from tensorflow.keras.models import Sequential\n",
        "from tensorflow.keras.layers import Conv2D, MaxPooling2D, Flatten, Dense\n",
        "\n",
        "from tensorflow.keras import metrics"
      ]
    },
    {
      "cell_type": "markdown",
      "metadata": {
        "id": "nq8fK0sM11hK"
      },
      "source": [
        "## Image dataset filepath"
      ]
    },
    {
      "cell_type": "code",
      "execution_count": null,
      "metadata": {
        "id": "r7FrvCkyRPHC"
      },
      "outputs": [],
      "source": [
        "# Specify the path to the directory containing your images\n",
        "\n",
        "healthy_dir_path = '/content/drive/MyDrive/CoffeeLeaf_images/Healthy'\n",
        "miner_dir_path = '/content/drive/MyDrive/CoffeeLeaf_images/Miner'\n",
        "rust_dir_path = '/content/drive/MyDrive/CoffeeLeaf_images/Rust'\n",
        "phoma_dir_path = '/content/drive/MyDrive/CoffeeLeaf_images/Phoma'\n",
        "cersco_dir_path = '/content/drive/MyDrive/CoffeeLeaf_images/Cerscospora'"
      ]
    },
    {
      "cell_type": "markdown",
      "metadata": {
        "id": "mfsC7yn0Xzhs"
      },
      "source": [
        "# Image loading"
      ]
    },
    {
      "cell_type": "code",
      "execution_count": null,
      "metadata": {
        "id": "sbXLmcImJ3aU"
      },
      "outputs": [],
      "source": [
        "def load_images_from_folder(folder_path, label, max_images=1000):\n",
        "    images = []\n",
        "    labels = []\n",
        "    count = 0\n",
        "    for filename in os.listdir(folder_path):\n",
        "        if count >= max_images:\n",
        "            break\n",
        "        img = cv.imread(os.path.join(folder_path,filename))\n",
        "        if img is not None:\n",
        "            images.append(img)\n",
        "            labels.append(label)\n",
        "            count += 1\n",
        "    return images, labels"
      ]
    },
    {
      "cell_type": "code",
      "execution_count": null,
      "metadata": {
        "id": "pSG-GNTkF17a"
      },
      "outputs": [],
      "source": [
        "# Load images from folders\n",
        "healthy_images, healthy_labels = load_images_from_folder(healthy_dir_path, 0)\n",
        "miner_images, miner_labels = load_images_from_folder(miner_dir_path, 1)\n",
        "rust_images, rust_labels = load_images_from_folder(rust_dir_path, 2)\n",
        "phoma_images, phoma_labels = load_images_from_folder(phoma_dir_path, 3)\n",
        "cersco_images, cersco_labels = load_images_from_folder(cersco_dir_path, 4)"
      ]
    },
    {
      "cell_type": "code",
      "execution_count": null,
      "metadata": {
        "id": "nCfe1ZMiHQjv"
      },
      "outputs": [],
      "source": [
        "# Combine the data\n",
        "all_images = healthy_images + miner_images + rust_images + phoma_images + cersco_images\n",
        "all_labels = healthy_labels + miner_labels + rust_labels + phoma_labels + cersco_labels\n",
        "\n",
        "# Split the data into training, validation and testing sets\n",
        "X_train, X_temp, y_train, y_temp = train_test_split(all_images, all_labels, test_size=0.3, random_state=42)\n",
        "X_val, X_test, y_val, y_test = train_test_split(X_temp, y_temp, test_size=0.5, random_state=42)"
      ]
    },
    {
      "cell_type": "code",
      "execution_count": null,
      "metadata": {
        "colab": {
          "base_uri": "https://localhost:8080/"
        },
        "id": "v2o4nbGPO7mK",
        "outputId": "a4fbd711-8a0e-4e57-f680-fa1afb453a65"
      },
      "outputs": [
        {
          "output_type": "stream",
          "name": "stdout",
          "text": [
            "Dataset: Training\n",
            "  Number of samples: 3500\n",
            "  Number of classes: 5\n",
            "  Class distribution: [684 691 716 699 710]\n",
            "\n",
            "Dataset: Validation\n",
            "  Number of samples: 750\n",
            "  Number of classes: 5\n",
            "  Class distribution: [159 148 142 148 153]\n",
            "\n",
            "Dataset: Testing\n",
            "  Number of samples: 750\n",
            "  Number of classes: 5\n",
            "  Class distribution: [157 161 142 153 137]\n",
            "\n"
          ]
        }
      ],
      "source": [
        "def summarize_dataset(X, y, name):\n",
        "  num_samples = len(X)\n",
        "  num_classes = len(np.unique(y))\n",
        "  print(f\"Dataset: {name}\")\n",
        "  print(f\"  Number of samples: {num_samples}\")\n",
        "  print(f\"  Number of classes: {num_classes}\")\n",
        "  print(f\"  Class distribution: {np.bincount(y)}\")\n",
        "  print()\n",
        "\n",
        "# Summarize each dataset\n",
        "summarize_dataset(X_train, y_train, \"Training\")\n",
        "summarize_dataset(X_val, y_val, \"Validation\")\n",
        "summarize_dataset(X_test, y_test, \"Testing\")"
      ]
    },
    {
      "cell_type": "markdown",
      "metadata": {
        "id": "RFWQu9ocaiOz"
      },
      "source": [
        "# Feature extraction"
      ]
    },
    {
      "cell_type": "markdown",
      "metadata": {
        "id": "cgHfwY7oQul-"
      },
      "source": [
        "### Edge feature with Canny algorithm"
      ]
    },
    {
      "cell_type": "code",
      "execution_count": null,
      "metadata": {
        "id": "0Bj7rB2GbvfX"
      },
      "outputs": [],
      "source": [
        "def extract_canny_edges(image, low_threshold=50, high_threshold=150, target_size=(128, 128)):\n",
        "    \"\"\"\n",
        "    Extracts Canny edges from a grayscale image and resizes them to a consistent size.\n",
        "\n",
        "    Args:\n",
        "        image: A grayscale image.\n",
        "        low_threshold: Lower threshold for Canny edge detection.\n",
        "        high_threshold: Upper threshold for Canny edge detection.\n",
        "        target_size: Tuple specifying the desired width and height of the output edge image.\n",
        "\n",
        "    Returns:\n",
        "        A flattened numpy array of edge features with a consistent shape.\n",
        "    \"\"\"\n",
        "    edges = cv.Canny(image, low_threshold, high_threshold)\n",
        "    resized_edges = cv.resize(edges, target_size) # Resize edges to a fixed size\n",
        "    return resized_edges.flatten()"
      ]
    },
    {
      "cell_type": "markdown",
      "metadata": {
        "id": "2RUzDjpJREb_"
      },
      "source": [
        "### Color feature with histogram"
      ]
    },
    {
      "cell_type": "code",
      "execution_count": null,
      "metadata": {
        "id": "sN2m3roHw3PQ"
      },
      "outputs": [],
      "source": [
        "def extract_color_histogram(image, bins=(8, 8, 8)):\n",
        "       \"\"\"Extracts a color histogram from an image.\"\"\"\n",
        "       hsv_image = cv.cvtColor(image, cv.COLOR_BGR2HSV)\n",
        "       hist = cv.calcHist([hsv_image], [0, 1, 2], None, bins, [0, 180, 0, 256, 0, 256])\n",
        "       hist = cv.normalize(hist, hist).flatten()\n",
        "       return hist"
      ]
    },
    {
      "cell_type": "markdown",
      "metadata": {
        "id": "DeaYNaaDReb8"
      },
      "source": [
        "### Combining features"
      ]
    },
    {
      "cell_type": "code",
      "execution_count": null,
      "metadata": {
        "id": "VZU9BQ5Qw6da"
      },
      "outputs": [],
      "source": [
        "X_train_combined = [np.concatenate((extract_canny_edges(img), extract_color_histogram(img))) for img in X_train]\n",
        "X_val_combined = [np.concatenate((extract_canny_edges(img), extract_color_histogram(img))) for img in X_val]\n",
        "X_test_combined = [np.concatenate((extract_canny_edges(img), extract_color_histogram(img))) for img in X_test]"
      ]
    },
    {
      "cell_type": "markdown",
      "metadata": {
        "id": "ORxafe5ua0nz"
      },
      "source": [
        "# Model training"
      ]
    },
    {
      "cell_type": "markdown",
      "metadata": {
        "id": "krqO5yeVsw-l"
      },
      "source": [
        "### SVM"
      ]
    },
    {
      "cell_type": "code",
      "execution_count": null,
      "metadata": {
        "id": "1piisZX7RzBx"
      },
      "outputs": [],
      "source": [
        "def train_svm(X_train, y_train, X_val, y_val):\n",
        "    \"\"\"\n",
        "    Trains an SVM model using the provided training and validation data.\n",
        "\n",
        "    Args:\n",
        "        X_train: Training features.\n",
        "        y_train: Training labels.\n",
        "        X_val: Validation features.\n",
        "        y_val: Validation labels.\n",
        "\n",
        "    Returns:\n",
        "        A trained SVM model.\n",
        "    \"\"\"\n",
        "    # Create an SVM classifier\n",
        "    clf = svm.SVC()\n",
        "\n",
        "    # Train the model\n",
        "    clf.fit(X_train, y_train)\n",
        "\n",
        "    # Evaluate on validation set (optional, but recommended)\n",
        "    val_accuracy = clf.score(X_val, y_val)\n",
        "    print(\"Validation Accuracy:\", val_accuracy)\n",
        "\n",
        "    return clf"
      ]
    },
    {
      "cell_type": "code",
      "execution_count": null,
      "metadata": {
        "colab": {
          "base_uri": "https://localhost:8080/"
        },
        "id": "5y6w5nH4xl0_",
        "outputId": "3b582fd2-51bf-49a1-d2f1-e4f9427c82d0"
      },
      "outputs": [
        {
          "output_type": "stream",
          "name": "stdout",
          "text": [
            "Validation Accuracy: 0.9866666666666667\n"
          ]
        }
      ],
      "source": [
        "model_svm = train_svm(X_train_combined, y_train, X_val_combined, y_val)"
      ]
    },
    {
      "cell_type": "markdown",
      "metadata": {
        "id": "VGDvIBegchd0"
      },
      "source": [
        "### KNN"
      ]
    },
    {
      "cell_type": "code",
      "execution_count": null,
      "metadata": {
        "id": "3NAN6j0lclED"
      },
      "outputs": [],
      "source": [
        "def train_knn(X_train, y_train, X_val, y_val, k=5):\n",
        "    \"\"\"\n",
        "    Trains a k-Nearest Neighbors model using the provided training and validation data.\n",
        "\n",
        "    Args:\n",
        "        X_train: Training features.\n",
        "        y_train: Training labels.\n",
        "        X_val: Validation features.\n",
        "        y_val: Validation labels.\n",
        "        k: Number of neighbors to consider (default is 5 (6/4)).\n",
        "\n",
        "    Returns:\n",
        "        A trained k-NN model.\n",
        "    \"\"\"\n",
        "\n",
        "    # Convert one-hot encoded labels to integer labels (if any?)\n",
        "    #y_train = np.argmax(y_train, axis=1)\n",
        "    #y_val = np.argmax(y_val, axis=1)\n",
        "\n",
        "    # Create a k-NN classifier\n",
        "    clf = KNeighborsClassifier(n_neighbors=k)\n",
        "\n",
        "    # Train the model\n",
        "    clf.fit(X_train, y_train)\n",
        "\n",
        "    # Evaluate on validation set (optional, but recommended)\n",
        "    val_accuracy = clf.score(X_val, y_val)\n",
        "    print(\"Validation Accuracy:\", val_accuracy)\n",
        "\n",
        "    return clf"
      ]
    },
    {
      "cell_type": "code",
      "execution_count": null,
      "metadata": {
        "colab": {
          "base_uri": "https://localhost:8080/"
        },
        "id": "eI7IuP5ryBFX",
        "outputId": "83accd75-c9ae-4e63-af19-bffe469e792c"
      },
      "outputs": [
        {
          "output_type": "stream",
          "name": "stdout",
          "text": [
            "Validation Accuracy: 0.7666666666666667\n"
          ]
        }
      ],
      "source": [
        "model_knn = train_knn(X_train_combined, y_train, X_val_combined, y_val)"
      ]
    },
    {
      "cell_type": "markdown",
      "metadata": {
        "id": "9h2iXsle271x"
      },
      "source": [
        "## CNN"
      ]
    },
    {
      "cell_type": "markdown",
      "metadata": {
        "id": "ubmOzdrI6s5o"
      },
      "source": [
        "### More preprocessing for CNN"
      ]
    },
    {
      "cell_type": "code",
      "execution_count": null,
      "metadata": {
        "id": "u-9SoNiE2-yq"
      },
      "outputs": [],
      "source": [
        "def preprocess_image(image, target_size=(128, 128)):\n",
        "    \"\"\"Preprocesses a single image.\"\"\"\n",
        "    # skip resizing if got the right size/or if already applied\n",
        "    image = tf.image.resize(image, target_size)\n",
        "    image = image / 255.0  # Normalize pixel values to 0-1\n",
        "    return image"
      ]
    },
    {
      "cell_type": "code",
      "execution_count": null,
      "metadata": {
        "id": "rUpfwLATV9jJ"
      },
      "outputs": [],
      "source": [
        "# Apply preprocessing to your datasets\n",
        "X_train_preprocessed = [preprocess_image(img) for img in X_train]\n",
        "X_val_preprocessed = [preprocess_image(img) for img in X_val]\n",
        "X_test_preprocessed = [preprocess_image(img) for img in X_test]\n",
        "\n",
        "# Convert to NumPy arrays\n",
        "X_train_preprocessed = np.array(X_train_preprocessed)\n",
        "X_val_preprocessed = np.array(X_val_preprocessed)\n",
        "X_test_preprocessed = np.array(X_test_preprocessed)"
      ]
    },
    {
      "cell_type": "code",
      "execution_count": null,
      "metadata": {
        "id": "cpvN8JzH5cxZ"
      },
      "outputs": [],
      "source": [
        "y_test = np.array(y_test)"
      ]
    },
    {
      "cell_type": "code",
      "execution_count": null,
      "metadata": {
        "id": "w2rhrEm1X6xZ"
      },
      "outputs": [],
      "source": [
        "# Assuming y_train and y_val contain integer class labels (0 to 4)\n",
        "\n",
        "# One-hot encode the labels\n",
        "y_train = tf.keras.utils.to_categorical(y_train, num_classes=5)\n",
        "y_val = tf.keras.utils.to_categorical(y_val, num_classes=5)\n",
        "y_test_cnn = tf.keras.utils.to_categorical(y_test, num_classes=5)"
      ]
    },
    {
      "cell_type": "markdown",
      "metadata": {
        "id": "EaJrl9ky64vF"
      },
      "source": [
        "### Define the CNN model"
      ]
    },
    {
      "cell_type": "code",
      "execution_count": null,
      "metadata": {
        "id": "HPosBjjE62ri"
      },
      "outputs": [],
      "source": [
        "model = Sequential([\n",
        "    Conv2D(32, (3, 3), activation='relu', input_shape=X_train_preprocessed.shape[1:]),\n",
        "    MaxPooling2D((2, 2)),\n",
        "    Conv2D(64, (3, 3), activation='relu'),\n",
        "    MaxPooling2D((2, 2)),\n",
        "    Flatten(),\n",
        "    Dense(64, activation='relu'),\n",
        "    Dense(5, activation='softmax')  # For multi-class classification\n",
        "    #Dense(1, activation='sigmoid')  # For binary classification\n",
        "])\n"
      ]
    },
    {
      "cell_type": "markdown",
      "metadata": {
        "id": "wfPBUf-B7F0t"
      },
      "source": [
        "### Compile & train"
      ]
    },
    {
      "cell_type": "code",
      "execution_count": null,
      "metadata": {
        "colab": {
          "base_uri": "https://localhost:8080/"
        },
        "id": "2ym5jrB_YLF_",
        "outputId": "8364b398-12e9-473d-dbf4-0a5cf188d373"
      },
      "outputs": [
        {
          "output_type": "stream",
          "name": "stdout",
          "text": [
            "Epoch 1/10\n",
            "110/110 [==============================] - 95s 854ms/step - loss: 0.7472 - accuracy: 0.7277 - precision_2: 0.8395 - recall_2: 0.6249 - auc_2: 0.9330 - val_loss: 0.3011 - val_accuracy: 0.8947 - val_precision_2: 0.9040 - val_recall_2: 0.8787 - val_auc_2: 0.9878\n",
            "Epoch 2/10\n",
            "110/110 [==============================] - 109s 995ms/step - loss: 0.2006 - accuracy: 0.9320 - precision_2: 0.9425 - recall_2: 0.9180 - auc_2: 0.9950 - val_loss: 0.1048 - val_accuracy: 0.9720 - val_precision_2: 0.9731 - val_recall_2: 0.9640 - val_auc_2: 0.9988\n",
            "Epoch 3/10\n",
            "110/110 [==============================] - 96s 870ms/step - loss: 0.0849 - accuracy: 0.9726 - precision_2: 0.9770 - recall_2: 0.9700 - auc_2: 0.9991 - val_loss: 0.2041 - val_accuracy: 0.9240 - val_precision_2: 0.9258 - val_recall_2: 0.9147 - val_auc_2: 0.9939\n",
            "Epoch 4/10\n",
            "110/110 [==============================] - 98s 894ms/step - loss: 0.0588 - accuracy: 0.9846 - precision_2: 0.9857 - recall_2: 0.9831 - auc_2: 0.9994 - val_loss: 0.0223 - val_accuracy: 0.9973 - val_precision_2: 0.9973 - val_recall_2: 0.9973 - val_auc_2: 0.9999\n",
            "Epoch 5/10\n",
            "110/110 [==============================] - 94s 859ms/step - loss: 0.0164 - accuracy: 0.9969 - precision_2: 0.9969 - recall_2: 0.9966 - auc_2: 1.0000 - val_loss: 0.0264 - val_accuracy: 0.9893 - val_precision_2: 0.9893 - val_recall_2: 0.9880 - val_auc_2: 0.9999\n",
            "Epoch 6/10\n",
            "110/110 [==============================] - 100s 912ms/step - loss: 0.0038 - accuracy: 0.9997 - precision_2: 0.9997 - recall_2: 0.9997 - auc_2: 1.0000 - val_loss: 0.0052 - val_accuracy: 0.9987 - val_precision_2: 0.9987 - val_recall_2: 0.9987 - val_auc_2: 1.0000\n",
            "Epoch 7/10\n",
            "110/110 [==============================] - 95s 861ms/step - loss: 0.0012 - accuracy: 1.0000 - precision_2: 1.0000 - recall_2: 1.0000 - auc_2: 1.0000 - val_loss: 0.0053 - val_accuracy: 0.9987 - val_precision_2: 0.9987 - val_recall_2: 0.9987 - val_auc_2: 1.0000\n",
            "Epoch 8/10\n",
            "110/110 [==============================] - 97s 883ms/step - loss: 6.4175e-04 - accuracy: 1.0000 - precision_2: 1.0000 - recall_2: 1.0000 - auc_2: 1.0000 - val_loss: 0.0047 - val_accuracy: 0.9987 - val_precision_2: 0.9987 - val_recall_2: 0.9987 - val_auc_2: 1.0000\n",
            "Epoch 9/10\n",
            "110/110 [==============================] - 98s 889ms/step - loss: 4.6485e-04 - accuracy: 1.0000 - precision_2: 1.0000 - recall_2: 1.0000 - auc_2: 1.0000 - val_loss: 0.0046 - val_accuracy: 0.9987 - val_precision_2: 0.9987 - val_recall_2: 0.9987 - val_auc_2: 1.0000\n",
            "Epoch 10/10\n",
            "110/110 [==============================] - 97s 883ms/step - loss: 3.6371e-04 - accuracy: 1.0000 - precision_2: 1.0000 - recall_2: 1.0000 - auc_2: 1.0000 - val_loss: 0.0053 - val_accuracy: 0.9987 - val_precision_2: 0.9987 - val_recall_2: 0.9987 - val_auc_2: 1.0000\n"
          ]
        },
        {
          "output_type": "execute_result",
          "data": {
            "text/plain": [
              "<keras.src.callbacks.History at 0x7d0a6823ffd0>"
            ]
          },
          "metadata": {},
          "execution_count": 80
        }
      ],
      "source": [
        "# compile --> train\n",
        "model.compile(optimizer='adam',\n",
        "              loss='categorical_crossentropy',  # Loss for multi-class\n",
        "              metrics=['accuracy',\n",
        "                       metrics.Precision(),\n",
        "                       metrics.Recall(),\n",
        "                       metrics.AUC()])\n",
        "\n",
        "model.fit(X_train_preprocessed, y_train, epochs=10,\n",
        "          validation_data=(X_val_preprocessed, y_val))"
      ]
    },
    {
      "cell_type": "markdown",
      "metadata": {
        "id": "UGxgaucedYo7"
      },
      "source": [
        "## Comparing the models"
      ]
    },
    {
      "cell_type": "code",
      "execution_count": null,
      "metadata": {
        "id": "PMRwOuQ-fprT"
      },
      "outputs": [],
      "source": [
        "def compare_models(svm_accuracy, knn_accuracy, cnn_accuracy):\n",
        "    \"\"\"\n",
        "    Compares the accuracy of SVM and k-NN models using a bar chart.\n",
        "\n",
        "    Args:\n",
        "        svm_accuracy: Accuracy of the SVM model.\n",
        "        knn_accuracy: Accuracy of the k-NN model.\n",
        "    \"\"\"\n",
        "    models = ['SVM', 'k-NN', 'CNN']\n",
        "    accuracies = [svm_accuracy, knn_accuracy, cnn_accuracy]\n",
        "\n",
        "    # Create bar chart\n",
        "    plt.bar(models, accuracies)\n",
        "\n",
        "    # Add labels, title, and y-axis limits\n",
        "    plt.xlabel('Model')\n",
        "    plt.ylabel('Accuracy')\n",
        "    #plt.title('Comparison of SVM and k-NN Accuracy')\n",
        "    plt.ylim([0, 1])\n",
        "\n",
        "    # Display accuracy values on top of bars\n",
        "    for i, v in enumerate(accuracies):\n",
        "        plt.text(i, v + 0.01, f\"{v:.2f}\", ha='center')\n",
        "\n",
        "    # Show the chart\n",
        "    plt.show()"
      ]
    },
    {
      "cell_type": "code",
      "execution_count": null,
      "metadata": {
        "id": "P8dYN_CwdimF"
      },
      "outputs": [],
      "source": [
        "# Assuming you have trained SVM and k-NN models and evaluated them on a test set\n",
        "# Replace these with your actual accuracy values\n",
        "svm_test_accuracy = model_svm.score(X_test_combined, y_test)\n",
        "knn_test_accuracy = model_knn.score(X_test_combined, y_test)\n",
        "#test_loss, cnn_accuracy = model.evaluate(X_test_preprocessed, y_test_cnn)"
      ]
    },
    {
      "cell_type": "code",
      "execution_count": null,
      "metadata": {
        "colab": {
          "base_uri": "https://localhost:8080/"
        },
        "id": "-K0GPL-Y0rS_",
        "outputId": "3c57f843-edc3-462d-9935-6e44303ec53e"
      },
      "outputs": [
        {
          "output_type": "stream",
          "name": "stdout",
          "text": [
            "24/24 [==============================] - 5s 198ms/step - loss: 0.0054 - accuracy: 0.9987 - precision_2: 0.9987 - recall_2: 0.9987 - auc_2: 1.0000\n"
          ]
        }
      ],
      "source": [
        "# Evaluate the CNN model\n",
        "evaluation_results = model.evaluate(X_test_preprocessed, y_test_cnn)\n",
        "\n",
        "# Extract loss and accuracy\n",
        "test_loss = evaluation_results[0]\n",
        "cnn_accuracy = evaluation_results[1]"
      ]
    },
    {
      "cell_type": "code",
      "execution_count": null,
      "metadata": {
        "colab": {
          "base_uri": "https://localhost:8080/",
          "height": 464
        },
        "id": "3r3FKRR80tZI",
        "outputId": "c4ff6d66-b812-4610-e275-387d8bd2dbb4"
      },
      "outputs": [
        {
          "output_type": "display_data",
          "data": {
            "text/plain": [
              "<Figure size 640x480 with 1 Axes>"
            ],
            "image/png": "[encoded data removed]"
          },
          "metadata": {}
        }
      ],
      "source": [
        "# Call the function to compare the models\n",
        "compare_models(svm_test_accuracy, knn_test_accuracy, cnn_accuracy)"
      ]
    },
    {
      "cell_type": "code",
      "execution_count": null,
      "metadata": {
        "colab": {
          "base_uri": "https://localhost:8080/",
          "height": 658
        },
        "id": "7msEjOOBYBWB",
        "outputId": "9709ad72-fbba-4948-9ac3-d846cc894d59"
      },
      "outputs": [
        {
          "output_type": "stream",
          "name": "stderr",
          "text": [
            "<ipython-input-85-86a58d4e1ef9>:19: UserWarning: FixedFormatter should only be used together with FixedLocator\n",
            "  plt.gca().set_yticklabels(['{:.0f}%'.format(x*100) for x in plt.gca().get_yticks()])\n"
          ]
        },
        {
          "output_type": "display_data",
          "data": {
            "text/plain": [
              "<Figure size 600x600 with 1 Axes>"
            ],
            "image/png": "[encoded data removed]"
          },
          "metadata": {}
        },
        {
          "output_type": "display_data",
          "data": {
            "text/plain": [
              "<Figure size 640x480 with 0 Axes>"
            ]
          },
          "metadata": {}
        }
      ],
      "source": [
        "models = ['SVM', 'KNN', 'CNN']\n",
        "accuracies = [svm_test_accuracy, knn_test_accuracy, cnn_accuracy]\n",
        "\n",
        "colors = ['blue', 'red', 'green']\n",
        "\n",
        "plt.figure(figsize=(6, 6))  # Adjust figure size for more space\n",
        "\n",
        "plt.bar(models, accuracies, color=colors)\n",
        "plt.xlabel('Model')\n",
        "plt.ylabel('Accuracy')\n",
        "plt.title('Comparison of Model Accuracies', pad=20)  # Add padding to the title\n",
        "\n",
        "plt.ylim([0, 1])\n",
        "\n",
        "for i, v in enumerate(accuracies):\n",
        "    plt.text(i, v + 0.02, f\"{v*100:.2f}%\", ha='center')  # Adjust text position\n",
        "\n",
        "# Format y-axis labels as percentages\n",
        "plt.gca().set_yticklabels(['{:.0f}%'.format(x*100) for x in plt.gca().get_yticks()])\n",
        "\n",
        "plt.tight_layout()  # Adjust layout to prevent overlapping\n",
        "plt.show()\n",
        "\n",
        "plt.savefig('model_accuracies.png')  # Save the plot as 'model_accuracies.png'"
      ]
    },
    {
      "cell_type": "markdown",
      "metadata": {
        "id": "HZaEzF77jCfd"
      },
      "source": [
        "### Confusion matrix (with heatmap)"
      ]
    },
    {
      "cell_type": "code",
      "source": [
        "# For SVM\n",
        "y_pred_svm = model_svm.predict(X_test_combined)\n",
        "print(classification_report(y_test, y_pred_svm))\n",
        "print(confusion_matrix(y_test, y_pred_svm))"
      ],
      "metadata": {
        "colab": {
          "base_uri": "https://localhost:8080/"
        },
        "id": "YRjDTp-3MVpn",
        "outputId": "bf26478f-3866-4cbe-88ee-91190bc21742"
      },
      "execution_count": null,
      "outputs": [
        {
          "output_type": "stream",
          "name": "stdout",
          "text": [
            "              precision    recall  f1-score   support\n",
            "\n",
            "           0       1.00      0.99      1.00       157\n",
            "           1       0.97      0.97      0.97       161\n",
            "           2       1.00      0.99      1.00       142\n",
            "           3       0.97      0.97      0.97       153\n",
            "           4       0.98      1.00      0.99       137\n",
            "\n",
            "    accuracy                           0.99       750\n",
            "   macro avg       0.99      0.99      0.99       750\n",
            "weighted avg       0.99      0.99      0.99       750\n",
            "\n",
            "[[156   0   0   0   1]\n",
            " [  0 156   0   4   1]\n",
            " [  0   0 141   0   1]\n",
            " [  0   4   0 149   0]\n",
            " [  0   0   0   0 137]]\n"
          ]
        }
      ]
    },
    {
      "cell_type": "code",
      "source": [
        "# For KNN\n",
        "y_pred_knn = model_knn.predict(X_test_combined)\n",
        "print(classification_report(y_test, y_pred_knn))\n",
        "print(confusion_matrix(y_test, y_pred_knn))"
      ],
      "metadata": {
        "colab": {
          "base_uri": "https://localhost:8080/"
        },
        "id": "dqOJlWMWMXQk",
        "outputId": "01222e9f-693e-4f6e-8ea7-137160e2cbad"
      },
      "execution_count": null,
      "outputs": [
        {
          "output_type": "stream",
          "name": "stdout",
          "text": [
            "              precision    recall  f1-score   support\n",
            "\n",
            "           0       1.00      0.99      1.00       157\n",
            "           1       0.77      0.53      0.63       161\n",
            "           2       0.49      1.00      0.66       142\n",
            "           3       1.00      0.34      0.51       153\n",
            "           4       0.93      0.96      0.94       137\n",
            "\n",
            "    accuracy                           0.76       750\n",
            "   macro avg       0.84      0.76      0.75       750\n",
            "weighted avg       0.84      0.76      0.74       750\n",
            "\n",
            "[[156   0   1   0   0]\n",
            " [  0  86  74   0   1]\n",
            " [  0   0 142   0   0]\n",
            " [  0  25  67  52   9]\n",
            " [  0   1   5   0 131]]\n"
          ]
        }
      ]
    },
    {
      "cell_type": "code",
      "source": [
        "# Predict probabilities\n",
        "y_pred_proba_cnn = model.predict(X_test_preprocessed)\n",
        "\n",
        "# Convert probabilities to class labels\n",
        "y_pred_cnn = np.argmax(y_pred_proba_cnn, axis=1)\n",
        "\n",
        "# Calculate confusion matrix\n",
        "print(confusion_matrix(y_test, y_pred_cnn))"
      ],
      "metadata": {
        "colab": {
          "base_uri": "https://localhost:8080/"
        },
        "id": "0fCgrx2TNR1v",
        "outputId": "377a177b-0d88-4130-8fd3-02fec9ada8e8"
      },
      "execution_count": null,
      "outputs": [
        {
          "output_type": "stream",
          "name": "stdout",
          "text": [
            "24/24 [==============================] - 7s 314ms/step\n",
            "[[157   0   0   0   0]\n",
            " [  0 161   0   0   0]\n",
            " [  0   0 142   0   0]\n",
            " [  0   1   0 152   0]\n",
            " [  0   0   0   0 137]]\n"
          ]
        }
      ]
    },
    {
      "cell_type": "code",
      "execution_count": null,
      "metadata": {
        "colab": {
          "base_uri": "https://localhost:8080/",
          "height": 472
        },
        "id": "nCQv9foIjnp-",
        "outputId": "198cc8f7-daad-4e59-e15a-f2a0ba6212de"
      },
      "outputs": [
        {
          "output_type": "display_data",
          "data": {
            "text/plain": [
              "<Figure size 640x480 with 2 Axes>"
            ],
            "image/png": "[encoded data removed]"
          },
          "metadata": {}
        }
      ],
      "source": [
        "plt.figure()\n",
        "sns.heatmap(confusion_matrix(y_test, y_pred_cnn), annot=True, fmt='d', cmap='Blues')\n",
        "plt.title('CNN Confusion Matrix')\n",
        "plt.xlabel('Predicted Label')\n",
        "plt.ylabel('True Label')\n",
        "plt.show()"
      ]
    },
    {
      "cell_type": "code",
      "execution_count": null,
      "metadata": {
        "colab": {
          "base_uri": "https://localhost:8080/"
        },
        "id": "fI495hxepPv7",
        "outputId": "1cfa24ff-d732-4141-eaa7-d007806825a2"
      },
      "outputs": [
        {
          "output_type": "display_data",
          "data": {
            "text/plain": [
              "<Figure size 1000x500 with 4 Axes>"
            ],
            "image/png": "[encoded data removed]"
          },
          "metadata": {}
        }
      ],
      "source": [
        "# Plot confusion matrices\n",
        "plt.figure(figsize=(10, 5))\n",
        "\n",
        "plt.subplot(1, 2, 1)\n",
        "sns.heatmap(confusion_matrix(y_test, y_pred_svm), annot=True, fmt='d', cmap='Blues')\n",
        "plt.title('SVM Confusion Matrix')\n",
        "\n",
        "plt.subplot(1, 2, 2)\n",
        "sns.heatmap(confusion_matrix(y_test, y_pred_knn), annot=True, fmt='d', cmap='Blues')\n",
        "plt.title('KNN Confusion Matrix')\n",
        "\n",
        "plt.tight_layout()\n",
        "plt.show()"
      ]
    }
  ],
  "metadata": {
    "colab": {
      "provenance": [],
      "include_colab_link": true
    },
    "kernelspec": {
      "display_name": "Python 3",
      "name": "python3"
    },
    "language_info": {
      "name": "python"
    }
  },
  "nbformat": 4,
  "nbformat_minor": 0
}