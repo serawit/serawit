{
  "nbformat": 4,
  "nbformat_minor": 0,
  "metadata": {
    "colab": {
      "private_outputs": true,
      "provenance": [],
      "authorship_tag": "ABX9TyO0hJoIheCk6aMR9641YGi1",
      "include_colab_link": true
    },
    "kernelspec": {
      "name": "python3",
      "display_name": "Python 3"
    },
    "language_info": {
      "name": "python"
    }
  },
  "cells": [
    {
      "cell_type": "markdown",
      "metadata": {
        "id": "view-in-github",
        "colab_type": "text"
      },
      "source": [
        "<a href=\"https://colab.research.google.com/github/serawit/serawit/blob/main/Serawit_Auto_Coffe_LDisisDetI.ipynb\" target=\"_parent\"><img src=\"https://colab.research.google.com/assets/colab-badge.svg\" alt=\"Open In Colab\"/></a>"
      ]
    },
    {
      "cell_type": "markdown",
      "source": [
        "# automatic coffee disease and pest damage identification system using recent image processing techniques."
      ],
      "metadata": {
        "id": "LOx2i8Cx4xVx"
      }
    },
    {
      "cell_type": "markdown",
      "source": [
        "Mounting and connecting to google drive (to access the image dataset)"
      ],
      "metadata": {
        "id": "Hi2h14I9kkYM"
      }
    },
    {
      "cell_type": "code",
      "source": [
        "from google.colab import drive\n",
        "drive.mount('/content/drive')"
      ],
      "metadata": {
        "id": "5vxLRajlmMR9"
      },
      "execution_count": null,
      "outputs": []
    },
    {
      "cell_type": "markdown",
      "source": [
        "Library installing & importing"
      ],
      "metadata": {
        "id": "kCga4hGIm3hv"
      }
    },
    {
      "cell_type": "code",
      "source": [
        "!pip install -q opencv-python\n",
        "!pip install -q numpy\n",
        "!pip install -q scikit-learn\n",
        "!pip install -q matplotlib"
      ],
      "metadata": {
        "id": "-67_1lkWmhrP"
      },
      "execution_count": null,
      "outputs": []
    },
    {
      "cell_type": "markdown",
      "source": [
        "Importing Libraries"
      ],
      "metadata": {
        "id": "ZhqAghmlnFQ_"
      }
    },
    {
      "cell_type": "code",
      "source": [
        "import os\n",
        "import numpy as np\n",
        "import cv2 as cv\n",
        "import sklearn.datasets as datasets\n",
        "from sklearn.model_selection import train_test_split\n",
        "import matplotlib.pyplot as plt"
      ],
      "metadata": {
        "id": "TYfpjm11nIOP"
      },
      "execution_count": null,
      "outputs": []
    },
    {
      "cell_type": "markdown",
      "source": [
        "Load & display:-\n",
        "*Loads and displays only the unique ones*"
      ],
      "metadata": {
        "id": "yUDNBgj3nUfG"
      }
    },
    {
      "cell_type": "code",
      "source": [
        "# Specify the path to the directory containing your images\n",
        "image_dir_path = '/content/drive/MyDrive/rust'"
      ],
      "metadata": {
        "id": "LGQmRfwSmqUX"
      },
      "execution_count": null,
      "outputs": []
    },
    {
      "cell_type": "code",
      "source": [
        "# Specify the path to the directory containing your images\n",
        "image_dir_path = '/content/drive/MyDrive/healthy_images/Healthy'"
      ],
      "metadata": {
        "id": "4OQwH6TPnWp_"
      },
      "execution_count": null,
      "outputs": []
    },
    {
      "cell_type": "code",
      "source": [
        "\n",
        "# Set to store unique labels encountered\n",
        "seen_labels = set()\n",
        "\n",
        "# Function to process images in a directory\n",
        "def process_images(directory):\n",
        "    for filename in os.listdir(directory):\n",
        "        file_path = os.path.join(directory, filename)\n",
        "        if os.path.isdir(file_path):  # Check if it's a directory\n",
        "            process_images(file_path)  # Recursively process subdirectories\n",
        "        elif filename.lower().endswith(('.jpg', '.jpeg', '.png')):  # Check if it's an image file\n",
        "            img = cv.imread(file_path)\n",
        "            if img is not None:\n",
        "                label = filename.split(' ')[0].strip()  # Extract the label\n",
        "                if label not in seen_labels:  # Check if label is unique\n",
        "                    seen_labels.add(label)  # Add the label to the set of seen labels\n",
        "                    img_rgb = cv.cvtColor(img, cv.COLOR_BGR2RGB)\n",
        "                    plt.figure(figsize=(6, 6))\n",
        "                    plt.subplot(222)\n",
        "                    plt.title(f'Label: {label}')\n",
        "                    plt.imshow(img_rgb)\n",
        "                    plt.axis('off')\n",
        "                    plt.show()\n",
        "            else:\n",
        "                print(f\"Failed to load image: {file_path}\")\n"
      ],
      "metadata": {
        "id": "KugjDlJAn9oq"
      },
      "execution_count": null,
      "outputs": []
    },
    {
      "cell_type": "code",
      "source": [
        "# Start processing images from the main directory\n",
        "process_images(image_dir_path)\n",
        "\n"
      ],
      "metadata": {
        "id": "-YyZXaJFopom"
      },
      "execution_count": null,
      "outputs": []
    },
    {
      "cell_type": "markdown",
      "source": [
        "Feature extraction"
      ],
      "metadata": {
        "id": "9QghPSrgxIbl"
      }
    },
    {
      "cell_type": "markdown",
      "source": [
        "Grayscale feature"
      ],
      "metadata": {
        "id": "hq1yFot5xM9G"
      }
    },
    {
      "cell_type": "code",
      "source": [
        "def extract_grayscale_features(image_path):\n",
        "    image = cv.imread(image_path, cv.IMREAD_GRAYSCALE)\n",
        "    if image is not None:\n",
        "        return image.flatten()\n",
        "    else:\n",
        "        print(f\"Failed to load image: {image_path}\")\n",
        "        return None"
      ],
      "metadata": {
        "id": "vV_O9MiDxJ69"
      },
      "execution_count": null,
      "outputs": []
    },
    {
      "cell_type": "code",
      "source": [
        "def process_images(image_dir_path):\n",
        "    all_features = []\n",
        "    all_images = [] # Store the grayscale images\n",
        "    for filename in os.listdir(image_dir_path):\n",
        "        if filename.endswith(('.jpg', '.jpeg', '.png')):\n",
        "            image_path = os.path.join(image_dir_path, filename)\n",
        "            image = cv.imread(image_path, cv.IMREAD_GRAYSCALE)\n",
        "            if image is not None:\n",
        "                all_features.append(image.flatten())\n",
        "                all_images.append(image) # Store the image\n",
        "\n",
        "    return all_features, all_images"
      ],
      "metadata": {
        "id": "8beYdnbhxXPV"
      },
      "execution_count": null,
      "outputs": []
    },
    {
      "cell_type": "code",
      "source": [
        "# Execute/call\n",
        "image_dir_path = '/content/drive/MyDrive/healthy_images/Healthy'\n",
        "all_image_features = process_images(image_dir_path)\n",
        "\n",
        "# Now you have a list of flattened features, one for each image\n",
        "print(all_image_features)"
      ],
      "metadata": {
        "id": "JfnDhkdAxbB9"
      },
      "execution_count": null,
      "outputs": []
    },
    {
      "cell_type": "code",
      "source": [
        "def visualize_features(features, original_image_path):\n",
        "    # Load original image in color\n",
        "    original_image = cv.imread(original_image_path)\n",
        "\n",
        "    # Reshape the flattened features\n",
        "    reshaped_image = features.reshape(original_image.shape[:2])  # Use only height and width for reshaping\n",
        "\n",
        "    # Display side by side\n",
        "    fig, axes = plt.subplots(1, 2, figsize=(10, 5))\n",
        "    axes[0].imshow(cv.cvtColor(original_image, cv.COLOR_BGR2RGB))  # Convert BGR to RGB for matplotlib\n",
        "    axes[0].set_title('Original Image')\n",
        "    axes[1].imshow(reshaped_image, cmap='gray')\n",
        "    axes[1].set_title('Visualized Features')\n",
        "    plt.show()"
      ],
      "metadata": {
        "id": "AwZaE0wTxm_I"
      },
      "execution_count": null,
      "outputs": []
    },
    {
      "cell_type": "code",
      "source": [
        "# Visualize features for the first image (adjust index as needed)\n",
        "if all_image_features:\n",
        "    first_image_path = os.path.join(image_dir_path, os.listdir(image_dir_path)[0])\n",
        "    visualize_features(all_image_features[0], first_image_path)"
      ],
      "metadata": {
        "id": "pEe4xN8vxqN9"
      },
      "execution_count": null,
      "outputs": []
    },
    {
      "cell_type": "markdown",
      "source": [
        "**Edge feature extraction**"
      ],
      "metadata": {
        "id": "jIrsYGkgxunb"
      }
    },
    {
      "cell_type": "code",
      "source": [
        "def extract_canny_edges(gray_image, low_threshold=50, high_threshold=150):\n",
        "    edges = cv.Canny(gray_image, low_threshold, high_threshold)\n",
        "    return edges.flatten()"
      ],
      "metadata": {
        "id": "82wZfJ0tx2wb"
      },
      "execution_count": null,
      "outputs": []
    },
    {
      "cell_type": "code",
      "source": [
        "def process_canny_images(image_dir_path):\n",
        "    all_edge_features = []\n",
        "    for filename in os.listdir(image_dir_path):\n",
        "        if filename.endswith(('.jpg', '.jpeg', '.png')):\n",
        "            image_path = os.path.join(image_dir_path, filename)\n",
        "            edge_features = extract_canny_edges(image_path)\n",
        "            if edge_features is not None:\n",
        "                all_edge_features.append(edge_features)\n",
        "\n",
        "    return all_edge_features"
      ],
      "metadata": {
        "id": "-TxOM_T1x6zW"
      },
      "execution_count": null,
      "outputs": []
    },
    {
      "cell_type": "code",
      "source": [
        "# Process images for Canny edge features\n",
        "#all_edge_features = process_canny_images(image_dir_path)"
      ],
      "metadata": {
        "id": "vqj-V7Wsx_0p"
      },
      "execution_count": null,
      "outputs": []
    },
    {
      "cell_type": "code",
      "source": [
        "# Process images for grayscale features and store grayscale images\n",
        "all_image_features, all_images = process_images(image_dir_path)\n",
        "\n",
        "# Process grayscale images for Canny edge features\n",
        "all_edge_features = [extract_canny_edges(img) for img in all_images]"
      ],
      "metadata": {
        "id": "w-p2MiJYyDvY"
      },
      "execution_count": null,
      "outputs": []
    },
    {
      "cell_type": "code",
      "source": [
        "def visualize_images(image_dir_path, all_images):\n",
        "    # Get the first grayscale image\n",
        "    if all_images:\n",
        "        gray_image = all_images[0]\n",
        "\n",
        "        # Load original color image (we still need to load this separately)\n",
        "        first_image_path = os.path.join(image_dir_path, os.listdir(image_dir_path)[0])\n",
        "        original_image = cv.imread(first_image_path)\n",
        "\n",
        "        # Extract Canny edges\n",
        "        edges = extract_canny_edges(gray_image)\n",
        "\n",
        "        # Reshape the flattened edges array (assuming you know the original dimensions)\n",
        "        original_height, original_width = gray_image.shape  # Replace with actual dimensions if known\n",
        "        edges_reshaped = edges.reshape((original_height, original_width))\n",
        "\n",
        "        # Display side by side\n",
        "        fig, axes = plt.subplots(1, 3, figsize=(15, 5))\n",
        "        axes[0].imshow(cv.cvtColor(original_image, cv.COLOR_BGR2RGB))\n",
        "        axes[0].set_title('Original Image')\n",
        "        axes[1].imshow(gray_image, cmap='gray')\n",
        "        axes[1].set_title('Grayscale Image')\n",
        "        axes[2].imshow(edges_reshaped, cmap='gray') #use reshaped edges\n",
        "        axes[2].set_title('Canny Edges')\n",
        "        plt.show()\n",
        "    else:\n",
        "        print(\"No images found in the directory.\")"
      ],
      "metadata": {
        "id": "sgbAj9Z9yJPe"
      },
      "execution_count": null,
      "outputs": []
    },
    {
      "cell_type": "code",
      "source": [
        "# Process images for grayscale features and store grayscale images\n",
        "#all_image_features, all_images = process_images(image_dir_path)\n",
        "\n",
        "# Visualize the first image, its grayscale (reused), and edges\n",
        "visualize_images(image_dir_path, all_images)"
      ],
      "metadata": {
        "id": "qjwDuytuyMyY"
      },
      "execution_count": null,
      "outputs": []
    }
  ]
}